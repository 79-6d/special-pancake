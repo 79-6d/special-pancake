{
 "cells": [
  {
   "cell_type": "code",
   "execution_count": 1,
   "metadata": {},
   "outputs": [
    {
     "name": "stderr",
     "output_type": "stream",
     "text": [
      "\n",
      "Attaching package: ‘dplyr’\n",
      "\n",
      "The following objects are masked from ‘package:stats’:\n",
      "\n",
      "    filter, lag\n",
      "\n",
      "The following objects are masked from ‘package:base’:\n",
      "\n",
      "    intersect, setdiff, setequal, union\n",
      "\n"
     ]
    }
   ],
   "source": [
    "library(robis)\n",
    "library(dplyr)\n",
    "library(ggplot2)"
   ]
  },
  {
   "cell_type": "code",
   "execution_count": 34,
   "metadata": {},
   "outputs": [
    {
     "name": "stderr",
     "output_type": "stream",
     "text": [
      "Retrieved 51433 records of approximately 51433 (100%)"
     ]
    }
   ],
   "source": [
    "df_all <- occurrence(\"Abra alba\", mof = TRUE)\n",
    "m_all <- measurements(df_all)"
   ]
  },
  {
   "cell_type": "markdown",
   "metadata": {},
   "source": [
    "## Should `measurementTypeID` and `measurementType` be 1:1 relationship?\n",
    "\n",
    "Are the vocabularies specific enough to represent this 1:1 relationship? "
   ]
  },
  {
   "cell_type": "code",
   "execution_count": 35,
   "metadata": {},
   "outputs": [
    {
     "data": {
      "text/html": [
       "<table>\n",
       "<caption>A tibble: 3 × 2</caption>\n",
       "<thead>\n",
       "\t<tr><th scope=col>measurementTypeID</th><th scope=col>measurementType</th></tr>\n",
       "\t<tr><th scope=col>&lt;chr&gt;</th><th scope=col>&lt;chr&gt;</th></tr>\n",
       "</thead>\n",
       "<tbody>\n",
       "\t<tr><td>http://vocab.nerc.ac.uk/collection/Q01/current/Q0100002/</td><td>Sampling instrument name</td></tr>\n",
       "\t<tr><td>http://vocab.nerc.ac.uk/collection/Q01/current/Q0100002/</td><td>Sampling instrument     </td></tr>\n",
       "\t<tr><td>http://vocab.nerc.ac.uk/collection/Q01/current/Q0100002/</td><td>Sampling device         </td></tr>\n",
       "</tbody>\n",
       "</table>\n"
      ],
      "text/latex": [
       "A tibble: 3 × 2\n",
       "\\begin{tabular}{ll}\n",
       " measurementTypeID & measurementType\\\\\n",
       " <chr> & <chr>\\\\\n",
       "\\hline\n",
       "\t http://vocab.nerc.ac.uk/collection/Q01/current/Q0100002/ & Sampling instrument name\\\\\n",
       "\t http://vocab.nerc.ac.uk/collection/Q01/current/Q0100002/ & Sampling instrument     \\\\\n",
       "\t http://vocab.nerc.ac.uk/collection/Q01/current/Q0100002/ & Sampling device         \\\\\n",
       "\\end{tabular}\n"
      ],
      "text/markdown": [
       "\n",
       "A tibble: 3 × 2\n",
       "\n",
       "| measurementTypeID &lt;chr&gt; | measurementType &lt;chr&gt; |\n",
       "|---|---|\n",
       "| http://vocab.nerc.ac.uk/collection/Q01/current/Q0100002/ | Sampling instrument name |\n",
       "| http://vocab.nerc.ac.uk/collection/Q01/current/Q0100002/ | Sampling instrument      |\n",
       "| http://vocab.nerc.ac.uk/collection/Q01/current/Q0100002/ | Sampling device          |\n",
       "\n"
      ],
      "text/plain": [
       "  measurementTypeID                                       \n",
       "1 http://vocab.nerc.ac.uk/collection/Q01/current/Q0100002/\n",
       "2 http://vocab.nerc.ac.uk/collection/Q01/current/Q0100002/\n",
       "3 http://vocab.nerc.ac.uk/collection/Q01/current/Q0100002/\n",
       "  measurementType         \n",
       "1 Sampling instrument name\n",
       "2 Sampling instrument     \n",
       "3 Sampling device         "
      ]
     },
     "metadata": {},
     "output_type": "display_data"
    }
   ],
   "source": [
    "m_all %>% \n",
    "    filter(measurementTypeID == \"http://vocab.nerc.ac.uk/collection/Q01/current/Q0100002/\") %>%\n",
    "    distinct(measurementTypeID, measurementType)"
   ]
  },
  {
   "cell_type": "code",
   "execution_count": 36,
   "metadata": {},
   "outputs": [
    {
     "data": {
      "text/html": [
       "<table>\n",
       "<caption>A tibble: 6 × 2</caption>\n",
       "<thead>\n",
       "\t<tr><th scope=col>measurementTypeID</th><th scope=col>measurementType</th></tr>\n",
       "\t<tr><th scope=col>&lt;chr&gt;</th><th scope=col>&lt;chr&gt;</th></tr>\n",
       "</thead>\n",
       "<tbody>\n",
       "\t<tr><td>http://vocab.nerc.ac.uk/collection/P01/current/ODRYBM01/</td><td>biomass</td></tr>\n",
       "\t<tr><td>http://vocab.nerc.ac.uk/collection/P01/current/OWETBM01/</td><td>biomass</td></tr>\n",
       "\t<tr><td>http://vocab.nerc.ac.uk/collection/P01/current/SDBIOL03/</td><td>biomass</td></tr>\n",
       "\t<tr><td>http://vocab.nerc.ac.uk/collection/P01/current/SDBIOL05/</td><td>biomass</td></tr>\n",
       "\t<tr><td>NA                                                      </td><td>biomass</td></tr>\n",
       "\t<tr><td>http://vocab.nerc.ac.uk/collection/P01/current/SDBIOL08/</td><td>biomass</td></tr>\n",
       "</tbody>\n",
       "</table>\n"
      ],
      "text/latex": [
       "A tibble: 6 × 2\n",
       "\\begin{tabular}{ll}\n",
       " measurementTypeID & measurementType\\\\\n",
       " <chr> & <chr>\\\\\n",
       "\\hline\n",
       "\t http://vocab.nerc.ac.uk/collection/P01/current/ODRYBM01/ & biomass\\\\\n",
       "\t http://vocab.nerc.ac.uk/collection/P01/current/OWETBM01/ & biomass\\\\\n",
       "\t http://vocab.nerc.ac.uk/collection/P01/current/SDBIOL03/ & biomass\\\\\n",
       "\t http://vocab.nerc.ac.uk/collection/P01/current/SDBIOL05/ & biomass\\\\\n",
       "\t NA                                                       & biomass\\\\\n",
       "\t http://vocab.nerc.ac.uk/collection/P01/current/SDBIOL08/ & biomass\\\\\n",
       "\\end{tabular}\n"
      ],
      "text/markdown": [
       "\n",
       "A tibble: 6 × 2\n",
       "\n",
       "| measurementTypeID &lt;chr&gt; | measurementType &lt;chr&gt; |\n",
       "|---|---|\n",
       "| http://vocab.nerc.ac.uk/collection/P01/current/ODRYBM01/ | biomass |\n",
       "| http://vocab.nerc.ac.uk/collection/P01/current/OWETBM01/ | biomass |\n",
       "| http://vocab.nerc.ac.uk/collection/P01/current/SDBIOL03/ | biomass |\n",
       "| http://vocab.nerc.ac.uk/collection/P01/current/SDBIOL05/ | biomass |\n",
       "| NA                                                       | biomass |\n",
       "| http://vocab.nerc.ac.uk/collection/P01/current/SDBIOL08/ | biomass |\n",
       "\n"
      ],
      "text/plain": [
       "  measurementTypeID                                        measurementType\n",
       "1 http://vocab.nerc.ac.uk/collection/P01/current/ODRYBM01/ biomass        \n",
       "2 http://vocab.nerc.ac.uk/collection/P01/current/OWETBM01/ biomass        \n",
       "3 http://vocab.nerc.ac.uk/collection/P01/current/SDBIOL03/ biomass        \n",
       "4 http://vocab.nerc.ac.uk/collection/P01/current/SDBIOL05/ biomass        \n",
       "5 NA                                                       biomass        \n",
       "6 http://vocab.nerc.ac.uk/collection/P01/current/SDBIOL08/ biomass        "
      ]
     },
     "metadata": {},
     "output_type": "display_data"
    }
   ],
   "source": [
    "m_all %>% \n",
    "    filter(measurementType == \"biomass\") %>%\n",
    "    distinct(measurementTypeID, measurementType)"
   ]
  },
  {
   "cell_type": "markdown",
   "metadata": {},
   "source": [
    "## Does each occurrence record inherits the MOF of the event associated in the response of web services?\n",
    "\n",
    "1 `occurrenceID` is associated with multiple `measurementTypeID`. Can this be interpreted as the MOF of an event (http://vocab.nerc.ac.uk/collection/P01/current/PPVSXX02/) will be inherited by each occurrence records associated with the event? "
   ]
  },
  {
   "cell_type": "code",
   "execution_count": 37,
   "metadata": {},
   "outputs": [
    {
     "data": {
      "text/html": [
       "<table>\n",
       "<caption>A tibble: 6 × 3</caption>\n",
       "<thead>\n",
       "\t<tr><th scope=col>occurrenceID</th><th scope=col>measurementTypeID</th><th scope=col>measurementType</th></tr>\n",
       "\t<tr><th scope=col>&lt;chr&gt;</th><th scope=col>&lt;chr&gt;</th><th scope=col>&lt;chr&gt;</th></tr>\n",
       "</thead>\n",
       "<tbody>\n",
       "\t<tr><td>476697</td><td>http://vocab.nerc.ac.uk/collection/P01/current/PRSCPSSO/</td><td>%&lt;63 µm in Sediment</td></tr>\n",
       "\t<tr><td>476697</td><td>http://vocab.nerc.ac.uk/collection/P01/current/PPVSXX02/</td><td>%&lt;10 µm in Sediment</td></tr>\n",
       "\t<tr><td>476691</td><td>http://vocab.nerc.ac.uk/collection/P01/current/PPVSXX02/</td><td>%&lt;10 µm in Sediment</td></tr>\n",
       "\t<tr><td>476691</td><td>http://vocab.nerc.ac.uk/collection/P01/current/PRSCPSSO/</td><td>%&lt;63 µm in Sediment</td></tr>\n",
       "\t<tr><td>476682</td><td>http://vocab.nerc.ac.uk/collection/P01/current/PRSCPSSO/</td><td>%&lt;63 µm in Sediment</td></tr>\n",
       "\t<tr><td>476682</td><td>http://vocab.nerc.ac.uk/collection/P01/current/PPVSXX02/</td><td>%&lt;10 µm in Sediment</td></tr>\n",
       "</tbody>\n",
       "</table>\n"
      ],
      "text/latex": [
       "A tibble: 6 × 3\n",
       "\\begin{tabular}{lll}\n",
       " occurrenceID & measurementTypeID & measurementType\\\\\n",
       " <chr> & <chr> & <chr>\\\\\n",
       "\\hline\n",
       "\t 476697 & http://vocab.nerc.ac.uk/collection/P01/current/PRSCPSSO/ & \\%<63 µm in Sediment\\\\\n",
       "\t 476697 & http://vocab.nerc.ac.uk/collection/P01/current/PPVSXX02/ & \\%<10 µm in Sediment\\\\\n",
       "\t 476691 & http://vocab.nerc.ac.uk/collection/P01/current/PPVSXX02/ & \\%<10 µm in Sediment\\\\\n",
       "\t 476691 & http://vocab.nerc.ac.uk/collection/P01/current/PRSCPSSO/ & \\%<63 µm in Sediment\\\\\n",
       "\t 476682 & http://vocab.nerc.ac.uk/collection/P01/current/PRSCPSSO/ & \\%<63 µm in Sediment\\\\\n",
       "\t 476682 & http://vocab.nerc.ac.uk/collection/P01/current/PPVSXX02/ & \\%<10 µm in Sediment\\\\\n",
       "\\end{tabular}\n"
      ],
      "text/markdown": [
       "\n",
       "A tibble: 6 × 3\n",
       "\n",
       "| occurrenceID &lt;chr&gt; | measurementTypeID &lt;chr&gt; | measurementType &lt;chr&gt; |\n",
       "|---|---|---|\n",
       "| 476697 | http://vocab.nerc.ac.uk/collection/P01/current/PRSCPSSO/ | %&lt;63 µm in Sediment |\n",
       "| 476697 | http://vocab.nerc.ac.uk/collection/P01/current/PPVSXX02/ | %&lt;10 µm in Sediment |\n",
       "| 476691 | http://vocab.nerc.ac.uk/collection/P01/current/PPVSXX02/ | %&lt;10 µm in Sediment |\n",
       "| 476691 | http://vocab.nerc.ac.uk/collection/P01/current/PRSCPSSO/ | %&lt;63 µm in Sediment |\n",
       "| 476682 | http://vocab.nerc.ac.uk/collection/P01/current/PRSCPSSO/ | %&lt;63 µm in Sediment |\n",
       "| 476682 | http://vocab.nerc.ac.uk/collection/P01/current/PPVSXX02/ | %&lt;10 µm in Sediment |\n",
       "\n"
      ],
      "text/plain": [
       "  occurrenceID measurementTypeID                                       \n",
       "1 476697       http://vocab.nerc.ac.uk/collection/P01/current/PRSCPSSO/\n",
       "2 476697       http://vocab.nerc.ac.uk/collection/P01/current/PPVSXX02/\n",
       "3 476691       http://vocab.nerc.ac.uk/collection/P01/current/PPVSXX02/\n",
       "4 476691       http://vocab.nerc.ac.uk/collection/P01/current/PRSCPSSO/\n",
       "5 476682       http://vocab.nerc.ac.uk/collection/P01/current/PRSCPSSO/\n",
       "6 476682       http://vocab.nerc.ac.uk/collection/P01/current/PPVSXX02/\n",
       "  measurementType    \n",
       "1 %<63 µm in Sediment\n",
       "2 %<10 µm in Sediment\n",
       "3 %<10 µm in Sediment\n",
       "4 %<63 µm in Sediment\n",
       "5 %<63 µm in Sediment\n",
       "6 %<10 µm in Sediment"
      ]
     },
     "metadata": {},
     "output_type": "display_data"
    }
   ],
   "source": [
    "m_all %>%\n",
    "    select(occurrenceID, measurementTypeID, measurementType) %>%\n",
    "    filter(measurementTypeID == \"http://vocab.nerc.ac.uk/collection/P01/current/PPVSXX02/\" | \n",
    "           measurementTypeID == \"http://vocab.nerc.ac.uk/collection/P01/current/PRSCPSSO/\") %>%\n",
    "    filter(occurrenceID != \"NA\") %>% \n",
    "    head()"
   ]
  },
  {
   "cell_type": "markdown",
   "metadata": {},
   "source": [
    "## Should derived value goes into MOF?\n",
    "\n",
    "For instance, body size is a good predictor for dry mass. Should the fitted value of dry mass goes into MOF of the occurrence record? \n",
    "An example of vocabulary with derived value: http://vocab.nerc.ac.uk/collection/P01/current/CBP01605/\n",
    "\n",
    "How should we guide the community in providing such data?"
   ]
  },
  {
   "cell_type": "markdown",
   "metadata": {},
   "source": [
    "## Average vs individual MOF?\n",
    "\n",
    "### Average measurement\n",
    "\n",
    "event_1: body length measurement for 1 species captured at 1 point <br/>\n",
    "mof_of_event_1: measurementType=**average** body length, measurementValue=10 cm <br/>\n",
    "|__ occ_1: decimalLatitude=-80, decimalLongitude=-180, individualCount=**3** <br/>\n",
    "\n",
    "\n",
    "\n",
    "### Individual measurements \n",
    "\n",
    "event_2: body length measurement for 1 species captured at 1 point <br/>\n",
    "|__ occ_2: decimalLatitude=-80, decimalLongitude=-180, individualCount=**1** <br/>\n",
    "&nbsp;&nbsp;&nbsp;&nbsp;|__ mof_of_occ_2: measurementType=body length, measurementValue=10 cm <br/>\n",
    "|__ occ_3: decimalLatitude=-80, decimalLongitude=-180, individualCount=**1** <br/>\n",
    "&nbsp;&nbsp;&nbsp;&nbsp;|__ mof_of_occ_3: measurementType=body length, measurementValue=15 cm <br/>\n",
    "|__ occ_4: decimalLatitude=-80, decimalLongitude=-180, individualCount=**1** <br/>\n",
    "&nbsp;&nbsp;&nbsp;&nbsp;|__ mof_of_occ_4: measurementType=body length, measurementValue=5 cm <br/>\n",
    "\n",
    "\n",
    "Which is preferred? Or should the average measurement be the parentEvent of individual measurements?"
   ]
  }
 ],
 "metadata": {
  "kernelspec": {
   "display_name": "R",
   "language": "R",
   "name": "ir"
  },
  "language_info": {
   "codemirror_mode": "r",
   "file_extension": ".r",
   "mimetype": "text/x-r-source",
   "name": "R",
   "pygments_lexer": "r",
   "version": "3.6.1"
  }
 },
 "nbformat": 4,
 "nbformat_minor": 2
}
